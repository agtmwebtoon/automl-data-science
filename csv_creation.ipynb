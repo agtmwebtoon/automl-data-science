{
 "nbformat": 4,
 "nbformat_minor": 0,
 "metadata": {
  "colab": {
   "name": "csv 파일 생성.ipynb",
   "provenance": [],
   "mount_file_id": "1Sjc92H-ltP8q4RQpryAU_aPYheyeLx_I",
   "authorship_tag": "ABX9TyOMs+Bb1Mts5Z0PVlGtinjA"
  },
  "kernelspec": {
   "name": "rl_sutton",
   "language": "python",
   "display_name": "gym"
  },
  "language_info": {
   "name": "python"
  }
 },
 "cells": [
  {
   "cell_type": "code",
   "execution_count": 2,
   "metadata": {
    "colab": {
     "base_uri": "https://localhost:8080/",
     "height": 560
    },
    "id": "AaRkz77K4Sp4",
    "executionInfo": {
     "status": "ok",
     "timestamp": 1653023764118,
     "user_tz": -540,
     "elapsed": 25940,
     "user": {
      "displayName": "전종민",
      "userId": "16424547423372155347"
     }
    },
    "outputId": "c59f31ee-34ee-416d-c683-701b99536cc4"
   },
   "outputs": [
    {
     "data": {
      "text/plain": "                                            App Name  \\\n0                                            Gakondo   \n1                                Ampere Battery Info   \n2                                             Vibook   \n3  Smart City Trichy Public Service Vehicles 17UC...   \n4                                            GROW.me   \n\n                       App Id       Category  Rating  Rating Count Installs  \\\n0         com.ishakwe.gakondo      Adventure     0.0           0.0      10+   \n1  com.webserveis.batteryinfo          Tools     4.4          64.0   5,000+   \n2        com.doantiepvien.crm   Productivity     0.0           0.0      50+   \n3     cst.stJoseph.ug17ucs548  Communication     5.0           5.0      10+   \n4        com.horodyski.grower          Tools     0.0           0.0     100+   \n\n   Minimum Installs  Maximum Installs  Free  Price  ...  \\\n0              10.0                15  True    0.0  ...   \n1            5000.0              7662  True    0.0  ...   \n2              50.0                58  True    0.0  ...   \n3              10.0                19  True    0.0  ...   \n4             100.0               478  True    0.0  ...   \n\n                  Developer Website              Developer Email  \\\n0       https://beniyizibyose.tk/#/       jean21101999@gmail.com   \n1   https://webserveis.netlify.app/         webserveis@gmail.com   \n2                               NaN          vnacrewit@gmail.com   \n3  http://www.climatesmarttech.com/  climatesmarttech2@gmail.com   \n4       http://www.horodyski.com.pl    rmilekhorodyski@gmail.com   \n\n       Released  Last Updated Content Rating  \\\n0  Feb 26, 2020  Feb 26, 2020       Everyone   \n1  May 21, 2020  May 06, 2021       Everyone   \n2   Aug 9, 2019  Aug 19, 2019       Everyone   \n3  Sep 10, 2018  Oct 13, 2018       Everyone   \n4  Feb 21, 2020  Nov 12, 2018       Everyone   \n\n                                      Privacy Policy Ad Supported  \\\n0                 https://beniyizibyose.tk/projects/        False   \n1  https://dev4phones.wordpress.com/licencia-de-uso/         True   \n2  https://www.vietnamairlines.com/vn/en/terms-an...        False   \n3                                                NaN         True   \n4                        http://www.horodyski.com.pl        False   \n\n  In App Purchases Editors Choice         Scraped Time  \n0            False          False  2021-06-15 20:19:35  \n1            False          False  2021-06-15 20:19:35  \n2            False          False  2021-06-15 20:19:35  \n3            False          False  2021-06-15 20:19:35  \n4            False          False  2021-06-15 20:19:35  \n\n[5 rows x 24 columns]",
      "text/html": "<div>\n<style scoped>\n    .dataframe tbody tr th:only-of-type {\n        vertical-align: middle;\n    }\n\n    .dataframe tbody tr th {\n        vertical-align: top;\n    }\n\n    .dataframe thead th {\n        text-align: right;\n    }\n</style>\n<table border=\"1\" class=\"dataframe\">\n  <thead>\n    <tr style=\"text-align: right;\">\n      <th></th>\n      <th>App Name</th>\n      <th>App Id</th>\n      <th>Category</th>\n      <th>Rating</th>\n      <th>Rating Count</th>\n      <th>Installs</th>\n      <th>Minimum Installs</th>\n      <th>Maximum Installs</th>\n      <th>Free</th>\n      <th>Price</th>\n      <th>...</th>\n      <th>Developer Website</th>\n      <th>Developer Email</th>\n      <th>Released</th>\n      <th>Last Updated</th>\n      <th>Content Rating</th>\n      <th>Privacy Policy</th>\n      <th>Ad Supported</th>\n      <th>In App Purchases</th>\n      <th>Editors Choice</th>\n      <th>Scraped Time</th>\n    </tr>\n  </thead>\n  <tbody>\n    <tr>\n      <th>0</th>\n      <td>Gakondo</td>\n      <td>com.ishakwe.gakondo</td>\n      <td>Adventure</td>\n      <td>0.0</td>\n      <td>0.0</td>\n      <td>10+</td>\n      <td>10.0</td>\n      <td>15</td>\n      <td>True</td>\n      <td>0.0</td>\n      <td>...</td>\n      <td>https://beniyizibyose.tk/#/</td>\n      <td>jean21101999@gmail.com</td>\n      <td>Feb 26, 2020</td>\n      <td>Feb 26, 2020</td>\n      <td>Everyone</td>\n      <td>https://beniyizibyose.tk/projects/</td>\n      <td>False</td>\n      <td>False</td>\n      <td>False</td>\n      <td>2021-06-15 20:19:35</td>\n    </tr>\n    <tr>\n      <th>1</th>\n      <td>Ampere Battery Info</td>\n      <td>com.webserveis.batteryinfo</td>\n      <td>Tools</td>\n      <td>4.4</td>\n      <td>64.0</td>\n      <td>5,000+</td>\n      <td>5000.0</td>\n      <td>7662</td>\n      <td>True</td>\n      <td>0.0</td>\n      <td>...</td>\n      <td>https://webserveis.netlify.app/</td>\n      <td>webserveis@gmail.com</td>\n      <td>May 21, 2020</td>\n      <td>May 06, 2021</td>\n      <td>Everyone</td>\n      <td>https://dev4phones.wordpress.com/licencia-de-uso/</td>\n      <td>True</td>\n      <td>False</td>\n      <td>False</td>\n      <td>2021-06-15 20:19:35</td>\n    </tr>\n    <tr>\n      <th>2</th>\n      <td>Vibook</td>\n      <td>com.doantiepvien.crm</td>\n      <td>Productivity</td>\n      <td>0.0</td>\n      <td>0.0</td>\n      <td>50+</td>\n      <td>50.0</td>\n      <td>58</td>\n      <td>True</td>\n      <td>0.0</td>\n      <td>...</td>\n      <td>NaN</td>\n      <td>vnacrewit@gmail.com</td>\n      <td>Aug 9, 2019</td>\n      <td>Aug 19, 2019</td>\n      <td>Everyone</td>\n      <td>https://www.vietnamairlines.com/vn/en/terms-an...</td>\n      <td>False</td>\n      <td>False</td>\n      <td>False</td>\n      <td>2021-06-15 20:19:35</td>\n    </tr>\n    <tr>\n      <th>3</th>\n      <td>Smart City Trichy Public Service Vehicles 17UC...</td>\n      <td>cst.stJoseph.ug17ucs548</td>\n      <td>Communication</td>\n      <td>5.0</td>\n      <td>5.0</td>\n      <td>10+</td>\n      <td>10.0</td>\n      <td>19</td>\n      <td>True</td>\n      <td>0.0</td>\n      <td>...</td>\n      <td>http://www.climatesmarttech.com/</td>\n      <td>climatesmarttech2@gmail.com</td>\n      <td>Sep 10, 2018</td>\n      <td>Oct 13, 2018</td>\n      <td>Everyone</td>\n      <td>NaN</td>\n      <td>True</td>\n      <td>False</td>\n      <td>False</td>\n      <td>2021-06-15 20:19:35</td>\n    </tr>\n    <tr>\n      <th>4</th>\n      <td>GROW.me</td>\n      <td>com.horodyski.grower</td>\n      <td>Tools</td>\n      <td>0.0</td>\n      <td>0.0</td>\n      <td>100+</td>\n      <td>100.0</td>\n      <td>478</td>\n      <td>True</td>\n      <td>0.0</td>\n      <td>...</td>\n      <td>http://www.horodyski.com.pl</td>\n      <td>rmilekhorodyski@gmail.com</td>\n      <td>Feb 21, 2020</td>\n      <td>Nov 12, 2018</td>\n      <td>Everyone</td>\n      <td>http://www.horodyski.com.pl</td>\n      <td>False</td>\n      <td>False</td>\n      <td>False</td>\n      <td>2021-06-15 20:19:35</td>\n    </tr>\n  </tbody>\n</table>\n<p>5 rows × 24 columns</p>\n</div>"
     },
     "execution_count": 2,
     "metadata": {},
     "output_type": "execute_result"
    }
   ],
   "source": [
    "import pandas as pd\n",
    "import numpy as np\n",
    "\n",
    "df = pd.read_csv('Google-Playstore-3.csv')\n",
    "\n",
    "df.head()"
   ]
  },
  {
   "cell_type": "code",
   "source": [
    "df.info()"
   ],
   "metadata": {
    "colab": {
     "base_uri": "https://localhost:8080/"
    },
    "id": "H6mGEVju7Rq5",
    "executionInfo": {
     "status": "ok",
     "timestamp": 1653024304525,
     "user_tz": -540,
     "elapsed": 14,
     "user": {
      "displayName": "전종민",
      "userId": "16424547423372155347"
     }
    },
    "outputId": "35aff499-45ac-41a7-c3bc-c7aaad555b93"
   },
   "execution_count": 4,
   "outputs": [
    {
     "name": "stdout",
     "output_type": "stream",
     "text": [
      "<class 'pandas.core.frame.DataFrame'>\n",
      "RangeIndex: 2312944 entries, 0 to 2312943\n",
      "Data columns (total 24 columns):\n",
      " #   Column             Dtype  \n",
      "---  ------             -----  \n",
      " 0   App Name           object \n",
      " 1   App Id             object \n",
      " 2   Category           object \n",
      " 3   Rating             float64\n",
      " 4   Rating Count       float64\n",
      " 5   Installs           object \n",
      " 6   Minimum Installs   float64\n",
      " 7   Maximum Installs   int64  \n",
      " 8   Free               bool   \n",
      " 9   Price              float64\n",
      " 10  Currency           object \n",
      " 11  Size               object \n",
      " 12  Minimum Android    object \n",
      " 13  Developer Id       object \n",
      " 14  Developer Website  object \n",
      " 15  Developer Email    object \n",
      " 16  Released           object \n",
      " 17  Last Updated       object \n",
      " 18  Content Rating     object \n",
      " 19  Privacy Policy     object \n",
      " 20  Ad Supported       bool   \n",
      " 21  In App Purchases   bool   \n",
      " 22  Editors Choice     bool   \n",
      " 23  Scraped Time       object \n",
      "dtypes: bool(4), float64(4), int64(1), object(15)\n",
      "memory usage: 361.8+ MB\n"
     ]
    }
   ]
  },
  {
   "cell_type": "code",
   "source": [
    "df2 = df.sample(n=20000, replace=True)\n",
    "df2.info()"
   ],
   "metadata": {
    "colab": {
     "base_uri": "https://localhost:8080/"
    },
    "id": "0viR0tej5IWT",
    "executionInfo": {
     "status": "ok",
     "timestamp": 1653024352118,
     "user_tz": -540,
     "elapsed": 419,
     "user": {
      "displayName": "전종민",
      "userId": "16424547423372155347"
     }
    },
    "outputId": "cbf04c23-ce87-49e6-8ea2-cac48746d8ea"
   },
   "execution_count": 5,
   "outputs": [
    {
     "name": "stdout",
     "output_type": "stream",
     "text": [
      "<class 'pandas.core.frame.DataFrame'>\n",
      "Int64Index: 20000 entries, 1308401 to 844100\n",
      "Data columns (total 24 columns):\n",
      " #   Column             Non-Null Count  Dtype  \n",
      "---  ------             --------------  -----  \n",
      " 0   App Name           20000 non-null  object \n",
      " 1   App Id             20000 non-null  object \n",
      " 2   Category           20000 non-null  object \n",
      " 3   Rating             19821 non-null  float64\n",
      " 4   Rating Count       19821 non-null  float64\n",
      " 5   Installs           20000 non-null  object \n",
      " 6   Minimum Installs   20000 non-null  float64\n",
      " 7   Maximum Installs   20000 non-null  int64  \n",
      " 8   Free               20000 non-null  bool   \n",
      " 9   Price              20000 non-null  float64\n",
      " 10  Currency           20000 non-null  object \n",
      " 11  Size               19999 non-null  object \n",
      " 12  Minimum Android    19937 non-null  object \n",
      " 13  Developer Id       20000 non-null  object \n",
      " 14  Developer Website  13477 non-null  object \n",
      " 15  Developer Email    20000 non-null  object \n",
      " 16  Released           19397 non-null  object \n",
      " 17  Last Updated       20000 non-null  object \n",
      " 18  Content Rating     20000 non-null  object \n",
      " 19  Privacy Policy     16344 non-null  object \n",
      " 20  Ad Supported       20000 non-null  bool   \n",
      " 21  In App Purchases   20000 non-null  bool   \n",
      " 22  Editors Choice     20000 non-null  bool   \n",
      " 23  Scraped Time       20000 non-null  object \n",
      "dtypes: bool(4), float64(4), int64(1), object(15)\n",
      "memory usage: 3.3+ MB\n"
     ]
    }
   ]
  },
  {
   "cell_type": "code",
   "source": [
    "df2.to_csv('Google-Playstore(new).csv')"
   ],
   "metadata": {
    "id": "nZn7JiFe7eKm",
    "executionInfo": {
     "status": "ok",
     "timestamp": 1653024601598,
     "user_tz": -540,
     "elapsed": 615,
     "user": {
      "displayName": "전종민",
      "userId": "16424547423372155347"
     }
    }
   },
   "execution_count": 6,
   "outputs": []
  },
  {
   "cell_type": "code",
   "source": [
    ""
   ],
   "metadata": {
    "id": "PxUWGn748PbQ"
   },
   "execution_count": null,
   "outputs": []
  }
 ]
}
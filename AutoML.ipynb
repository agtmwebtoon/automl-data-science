{
 "cells": [
  {
   "cell_type": "code",
   "execution_count": 131,
   "metadata": {
    "collapsed": true
   },
   "outputs": [],
   "source": [
    "import pandas as pd\n",
    "import numpy as np\n",
    "import featuretools as ft\n",
    "import matplotlib.pyplot as plt\n",
    "from matplotlib import rcParams\n",
    "import seaborn as sns\n",
    "import warnings\n",
    "warnings.filterwarnings('ignore')\n",
    "\n",
    "from sklearn.neighbors import KNeighborsRegressor, KNeighborsClassifier\n",
    "from sklearn.decomposition import PCA\n",
    "from sklearn.model_selection import train_test_split, KFold, GridSearchCV, RandomizedSearchCV\n",
    "from sklearn.pipeline import make_pipeline\n",
    "from sklearn.preprocessing import StandardScaler, OrdinalEncoder\n",
    "from sklearn.feature_selection import  r_regression, SelectKBest\n",
    "from sklearn.linear_model import LinearRegression\n",
    "from sklearn.metrics import mean_squared_error, mean_absolute_error\n",
    "\n",
    "from woodwork.logical_types import Categorical, Boolean\n",
    "from math import  ceil, log10\n",
    "'''\n",
    "Add plt config\n",
    "@Author: MinHyung Lee\n",
    "@Since: 2022/05/24\n",
    "\n",
    "'''\n",
    "\n",
    "plt.style.use('ggplot')\n",
    "rcParams['axes.spines.right'] = False\n",
    "rcParams['axes.spines.top'] = False\n",
    "rcParams['figure.figsize'] = [12, 9]\n",
    "rcParams['font.size'] = 16\n",
    "plt.rc('xtick', labelsize=12)\n",
    "plt.rc('ytick', labelsize=12)\n",
    "rcParams['figure.dpi'] = 600\n",
    "\n",
    "pd.set_option('display.max_rows', 20)"
   ]
  },
  {
   "cell_type": "code",
   "execution_count": 140,
   "outputs": [],
   "source": [
    "class AutoML:\n",
    "    def __init__(self, dataset, do_sampling):\n",
    "        self.df = dataset\n",
    "        self.do_sampling = do_sampling\n",
    "        self.X = None\n",
    "        self.y = None\n",
    "\n",
    "    def sampling(self, sample_size=20000):\n",
    "        if self.do_sampling:\n",
    "            self.df = self.df.sample(n=sample_size, replace=True)\n",
    "\n",
    "    def value_change(self, unused_column=[], string_column=[]):\n",
    "        self.df.drop(unused_column, axis=1, inplace=True)\n",
    "\n",
    "        # Encode string values\n",
    "        encoding = OrdinalEncoder()\n",
    "        encoding.fit(self.df[string_column])\n",
    "        self.df[string_column] = encoding.transform(self.df[string_column])\n",
    "        self.df.fillna(self.df.mean(), inplace=True)\n",
    "\n",
    "    def export_to_csv(self, name):\n",
    "        self.df.to_csv(name + \".csv\")\n",
    "\n",
    "    def corr_check(self):\n",
    "        f,ax = plt.subplots(figsize=(12, 12))\n",
    "        sns.heatmap(self.df.corr(), annot=True, linewidths=.5, fmt= '.1f',ax=ax)\n",
    "        plt.show()\n",
    "\n",
    "    def feature_selection(self, target, k=5):\n",
    "        X = self.df.drop([target], axis = 1)\n",
    "        self.y = self.df[[target]].to_numpy()\n",
    "\n",
    "\n",
    "        # Select best feature using selectKBest and scoring option is r_regression\n",
    "        select = SelectKBest(score_func=r_regression, k = k)\n",
    "        self.X = select.fit_transform(X, self.y)\n",
    "\n",
    "    def PCA(self, explained_var=0.9):\n",
    "\n",
    "        self.X = StandardScaler().fit_transform(self.X)\n",
    "\n",
    "        # Set variance ratio to 0.9\n",
    "        pca = PCA(explained_var)\n",
    "        self.X = pca.fit_transform(self.X)\n",
    "\n",
    "    def make_subplot_layout(self, col_num=3):\n",
    "\n",
    "        k = len(self.df.columns)\n",
    "        row_num = ceil(k/col_num)\n",
    "        for i in range(k) :\n",
    "            plt.subplot(row_num,col_num,i+1)\n",
    "            plt.hist(self.df.iloc[:,i])\n",
    "            plt.title(self.df.columns[i])\n",
    "        plt.tight_layout()\n",
    "        plt.show()\n",
    "\n",
    "    def linear_regression(self):\n",
    "        X_train, X_test, y_train,  y_test = train_test_split(self.X, self.y, test_size = 0.2, random_state=7777)\n",
    "\n",
    "        reg = LinearRegression()\n",
    "        reg.fit(X_train, y_train)\n",
    "\n",
    "        #Set Kfold for k == 10\n",
    "        cv = KFold(n_splits=10)\n",
    "\n",
    "        fold = 0\n",
    "        for train_index, test_index in cv.split(X_test):\n",
    "\n",
    "            '''\n",
    "\n",
    "            @Author: MinHyung Lee\n",
    "            @Since: 2022/05/31\n",
    "            Validate each fold by using linear regression\n",
    "\n",
    "            '''\n",
    "\n",
    "\n",
    "            fold += 1\n",
    "            train_X, test_X = X_train[train_index], X_test[test_index]\n",
    "            train_y, test_y = y_train[train_index], y_test[test_index]\n",
    "\n",
    "            reg.fit(train_X, train_y)\n",
    "\n",
    "            print(f'Result of {fold} fold')\n",
    "            print(f'Result => {mean_squared_error(y_test, reg.predict(X_test))}')\n"
   ],
   "metadata": {
    "collapsed": false,
    "pycharm": {
     "name": "#%%\n"
    }
   }
  },
  {
   "cell_type": "code",
   "execution_count": 141,
   "outputs": [],
   "source": [
    "raw_df = pd.read_csv('Dataset/Google-Playstore(new).csv', index_col=[0])"
   ],
   "metadata": {
    "collapsed": false,
    "pycharm": {
     "name": "#%%\n"
    }
   }
  },
  {
   "cell_type": "code",
   "execution_count": 142,
   "outputs": [],
   "source": [
    "model = AutoML(raw_df, do_sampling=True)\n",
    "\n",
    "model.sampling(sample_size=20000)\n"
   ],
   "metadata": {
    "collapsed": false,
    "pycharm": {
     "name": "#%%\n"
    }
   }
  },
  {
   "cell_type": "code",
   "execution_count": 143,
   "outputs": [],
   "source": [
    "string_col = ['Category', 'Minimum Android', 'Content Rating', 'Ad Supported', 'In App Purchases', 'Installs']\n",
    "unusable_col = ['App Name', 'App Id', 'Minimum Installs', 'Price', 'Currency', 'Developer Id', 'Developer Website', 'Developer Email', 'Privacy Policy', 'Last Updated', 'Editors Choice', 'Scraped Time', 'Free', 'Rating Count', 'Rating', 'Size', 'Released']"
   ],
   "metadata": {
    "collapsed": false,
    "pycharm": {
     "name": "#%%\n"
    }
   }
  },
  {
   "cell_type": "code",
   "execution_count": 144,
   "outputs": [],
   "source": [
    "model.value_change(string_column=string_col, unused_column=unusable_col)"
   ],
   "metadata": {
    "collapsed": false,
    "pycharm": {
     "name": "#%%\n"
    }
   }
  },
  {
   "cell_type": "code",
   "execution_count": 145,
   "outputs": [],
   "source": [
    "model.feature_selection(target=\"Maximum Installs\")"
   ],
   "metadata": {
    "collapsed": false,
    "pycharm": {
     "name": "#%%\n"
    }
   }
  },
  {
   "cell_type": "code",
   "execution_count": 146,
   "outputs": [],
   "source": [
    "model.PCA()"
   ],
   "metadata": {
    "collapsed": false,
    "pycharm": {
     "name": "#%%\n"
    }
   }
  },
  {
   "cell_type": "code",
   "execution_count": 147,
   "outputs": [
    {
     "name": "stdout",
     "output_type": "stream",
     "text": [
      "Result of 1 fold\n",
      "Result => 1886722380766.5764\n",
      "Result of 2 fold\n",
      "Result => 1866122986943.1355\n",
      "Result of 3 fold\n",
      "Result => 1800899817810.3965\n",
      "Result of 4 fold\n",
      "Result => 1884066032912.213\n",
      "Result of 5 fold\n",
      "Result => 1877116789385.685\n",
      "Result of 6 fold\n",
      "Result => 1852631898298.3574\n",
      "Result of 7 fold\n",
      "Result => 1866966584546.222\n",
      "Result of 8 fold\n",
      "Result => 1877171485390.5747\n",
      "Result of 9 fold\n",
      "Result => 1890103471709.827\n",
      "Result of 10 fold\n",
      "Result => 1877309789835.266\n"
     ]
    }
   ],
   "source": [
    "model.linear_regression()"
   ],
   "metadata": {
    "collapsed": false,
    "pycharm": {
     "name": "#%%\n"
    }
   }
  },
  {
   "cell_type": "code",
   "execution_count": null,
   "outputs": [],
   "source": [],
   "metadata": {
    "collapsed": false,
    "pycharm": {
     "name": "#%%\n"
    }
   }
  }
 ],
 "metadata": {
  "kernelspec": {
   "display_name": "Python 3",
   "language": "python",
   "name": "python3"
  },
  "language_info": {
   "codemirror_mode": {
    "name": "ipython",
    "version": 2
   },
   "file_extension": ".py",
   "mimetype": "text/x-python",
   "name": "python",
   "nbconvert_exporter": "python",
   "pygments_lexer": "ipython2",
   "version": "2.7.6"
  }
 },
 "nbformat": 4,
 "nbformat_minor": 0
}
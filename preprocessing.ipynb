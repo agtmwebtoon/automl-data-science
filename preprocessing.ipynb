{
 "nbformat": 4,
 "nbformat_minor": 0,
 "metadata": {
  "colab": {
   "name": "preprocessing.ipynb",
   "provenance": [],
   "collapsed_sections": []
  },
  "kernelspec": {
   "name": "rl_sutton",
   "language": "python",
   "display_name": "gym"
  },
  "language_info": {
   "name": "python"
  }
 },
 "cells": [
  {
   "cell_type": "code",
   "execution_count": 12,
   "metadata": {
    "colab": {
     "base_uri": "https://localhost:8080/",
     "height": 426
    },
    "id": "I3y5C4r3Acq2",
    "executionInfo": {
     "status": "error",
     "timestamp": 1653186635884,
     "user_tz": -540,
     "elapsed": 1110,
     "user": {
      "displayName": "Lee MinHyung",
      "userId": "15580286387741769635"
     }
    },
    "outputId": "9ee50c16-c898-49ad-faec-d268abbb2ece"
   },
   "outputs": [],
   "source": [
    "'''\n",
    "Library declare\n",
    "@Author: MinHyung Lee\n",
    "@Since: 2022/05/22\n",
    "Used library:\n",
    "pandas\n",
    "numpy\n",
    "featuretools\n",
    "matplot\n",
    "sklearn\n",
    "\n",
    "'''\n",
    "\n",
    "import pandas as pd\n",
    "import numpy as np\n",
    "import featuretools as ft\n",
    "import matplotlib.pyplot as plt\n",
    "\n",
    "from woodwork.logical_types import Categorical, Boolean\n",
    "from sklearn.preprocessing import OrdinalEncoder\n",
    "from datetime import datetime\n",
    "\n",
    "pd.set_option('display.max_rows', 20)"
   ]
  },
  {
   "cell_type": "code",
   "execution_count": 13,
   "outputs": [
    {
     "name": "stderr",
     "output_type": "stream",
     "text": [
      "/var/folders/2g/lnwzhq354cgb0l80t1dhm59m0000gn/T/ipykernel_72920/2588738159.py:26: FutureWarning: Dropping of nuisance columns in DataFrame reductions (with 'numeric_only=None') is deprecated; in a future version this will raise TypeError.  Select only valid columns before calling the reduction.\n",
      "  df.fillna(df.mean(), inplace=True)\n"
     ]
    },
    {
     "data": {
      "text/plain": "       Category  Rating  Rating Count  Maximum Installs  Size  \\\n0          26.0     4.9          20.0               552   5.8   \n1          31.0     4.6         719.0            118989  12.0   \n2          24.0     0.0           0.0                85   8.9   \n3          11.0     0.0           0.0               723  27.0   \n4          33.0     0.0           0.0               153   6.0   \n...         ...     ...           ...               ...   ...   \n19995      17.0     4.0           5.0               335   6.9   \n19996      13.0     0.0           0.0               900   8.9   \n19997      20.0     0.0           0.0                30   2.0   \n19998       2.0     0.0           0.0                10  32.0   \n19999      28.0     0.0           0.0              1119   6.0   \n\n       Minimum Android    Released  Content Rating  Ad Supported  \\\n0                 27.0  2020-03-05             0.0           1.0   \n1                 21.0  2016-03-24             0.0           1.0   \n2                 22.0  2018-12-25             0.0           0.0   \n3                 27.0  2020-04-18             0.0           1.0   \n4                 27.0  2017-11-27             0.0           0.0   \n...                ...         ...             ...           ...   \n19995             25.0  2018-08-14             0.0           1.0   \n19996             21.0  2017-08-10             0.0           0.0   \n19997             19.0  2020-01-03             0.0           0.0   \n19998             27.0  2019-09-16             0.0           1.0   \n19999             19.0  2019-05-07             0.0           1.0   \n\n       In App Purchases  \n0                   0.0  \n1                   0.0  \n2                   0.0  \n3                   0.0  \n4                   0.0  \n...                 ...  \n19995               0.0  \n19996               0.0  \n19997               0.0  \n19998               0.0  \n19999               0.0  \n\n[18893 rows x 10 columns]",
      "text/html": "<div>\n<style scoped>\n    .dataframe tbody tr th:only-of-type {\n        vertical-align: middle;\n    }\n\n    .dataframe tbody tr th {\n        vertical-align: top;\n    }\n\n    .dataframe thead th {\n        text-align: right;\n    }\n</style>\n<table border=\"1\" class=\"dataframe\">\n  <thead>\n    <tr style=\"text-align: right;\">\n      <th></th>\n      <th>Category</th>\n      <th>Rating</th>\n      <th>Rating Count</th>\n      <th>Maximum Installs</th>\n      <th>Size</th>\n      <th>Minimum Android</th>\n      <th>Released</th>\n      <th>Content Rating</th>\n      <th>Ad Supported</th>\n      <th>In App Purchases</th>\n    </tr>\n  </thead>\n  <tbody>\n    <tr>\n      <th>0</th>\n      <td>26.0</td>\n      <td>4.9</td>\n      <td>20.0</td>\n      <td>552</td>\n      <td>5.8</td>\n      <td>27.0</td>\n      <td>2020-03-05</td>\n      <td>0.0</td>\n      <td>1.0</td>\n      <td>0.0</td>\n    </tr>\n    <tr>\n      <th>1</th>\n      <td>31.0</td>\n      <td>4.6</td>\n      <td>719.0</td>\n      <td>118989</td>\n      <td>12.0</td>\n      <td>21.0</td>\n      <td>2016-03-24</td>\n      <td>0.0</td>\n      <td>1.0</td>\n      <td>0.0</td>\n    </tr>\n    <tr>\n      <th>2</th>\n      <td>24.0</td>\n      <td>0.0</td>\n      <td>0.0</td>\n      <td>85</td>\n      <td>8.9</td>\n      <td>22.0</td>\n      <td>2018-12-25</td>\n      <td>0.0</td>\n      <td>0.0</td>\n      <td>0.0</td>\n    </tr>\n    <tr>\n      <th>3</th>\n      <td>11.0</td>\n      <td>0.0</td>\n      <td>0.0</td>\n      <td>723</td>\n      <td>27.0</td>\n      <td>27.0</td>\n      <td>2020-04-18</td>\n      <td>0.0</td>\n      <td>1.0</td>\n      <td>0.0</td>\n    </tr>\n    <tr>\n      <th>4</th>\n      <td>33.0</td>\n      <td>0.0</td>\n      <td>0.0</td>\n      <td>153</td>\n      <td>6.0</td>\n      <td>27.0</td>\n      <td>2017-11-27</td>\n      <td>0.0</td>\n      <td>0.0</td>\n      <td>0.0</td>\n    </tr>\n    <tr>\n      <th>...</th>\n      <td>...</td>\n      <td>...</td>\n      <td>...</td>\n      <td>...</td>\n      <td>...</td>\n      <td>...</td>\n      <td>...</td>\n      <td>...</td>\n      <td>...</td>\n      <td>...</td>\n    </tr>\n    <tr>\n      <th>19995</th>\n      <td>17.0</td>\n      <td>4.0</td>\n      <td>5.0</td>\n      <td>335</td>\n      <td>6.9</td>\n      <td>25.0</td>\n      <td>2018-08-14</td>\n      <td>0.0</td>\n      <td>1.0</td>\n      <td>0.0</td>\n    </tr>\n    <tr>\n      <th>19996</th>\n      <td>13.0</td>\n      <td>0.0</td>\n      <td>0.0</td>\n      <td>900</td>\n      <td>8.9</td>\n      <td>21.0</td>\n      <td>2017-08-10</td>\n      <td>0.0</td>\n      <td>0.0</td>\n      <td>0.0</td>\n    </tr>\n    <tr>\n      <th>19997</th>\n      <td>20.0</td>\n      <td>0.0</td>\n      <td>0.0</td>\n      <td>30</td>\n      <td>2.0</td>\n      <td>19.0</td>\n      <td>2020-01-03</td>\n      <td>0.0</td>\n      <td>0.0</td>\n      <td>0.0</td>\n    </tr>\n    <tr>\n      <th>19998</th>\n      <td>2.0</td>\n      <td>0.0</td>\n      <td>0.0</td>\n      <td>10</td>\n      <td>32.0</td>\n      <td>27.0</td>\n      <td>2019-09-16</td>\n      <td>0.0</td>\n      <td>1.0</td>\n      <td>0.0</td>\n    </tr>\n    <tr>\n      <th>19999</th>\n      <td>28.0</td>\n      <td>0.0</td>\n      <td>0.0</td>\n      <td>1119</td>\n      <td>6.0</td>\n      <td>19.0</td>\n      <td>2019-05-07</td>\n      <td>0.0</td>\n      <td>1.0</td>\n      <td>0.0</td>\n    </tr>\n  </tbody>\n</table>\n<p>18893 rows × 10 columns</p>\n</div>"
     },
     "execution_count": 13,
     "metadata": {},
     "output_type": "execute_result"
    }
   ],
   "source": [
    "\n",
    "\n",
    "df = pd.read_csv('Google-Playstore(new).csv')\n",
    "\n",
    "# 필요없는 컬럼 버리기\n",
    "df = df.drop(['Unnamed: 0', 'App Name', 'App Id', 'Installs', 'Minimum Installs', 'Price', 'Currency', 'Developer Id', 'Developer Website', 'Developer Email', 'Privacy Policy', 'Last Updated', 'Editors Choice', 'Scraped Time', 'Free'], axis=1)\n",
    "\n",
    "# 숫자로 되어 있지 않은 컬럼 숫자로 인코딩하기\n",
    "encoding = OrdinalEncoder()\n",
    "encoding.fit(df[['Category', 'Minimum Android', 'Content Rating', 'Ad Supported', 'In App Purchases']])\n",
    "df[['Category', 'Minimum Android', 'Content Rating', 'Ad Supported', 'In App Purchases']] = encoding.transform(df[['Category', 'Minimum Android', 'Content Rating', 'Ad Supported', 'In App Purchases']])\n",
    "\n",
    "# Size 컬럼 인코딩\n",
    "A = df[df['Size'] == 'Varies with device'].index\n",
    "df = df.drop(A,axis='index')\n",
    "df = df.dropna()  # NaN가 포함된 데이터는 모두 drop\n",
    "# 앱 크기 사이즈 계산\n",
    "# 1. ','drop\n",
    "# 2. M과 k drop\n",
    "# 3. k값 M으로 치환\n",
    "df['Size'] =  np.where(df['Size'].str.contains('M'), df['Size'].str.replace(',','').str[:-1].astype('float64') , df['Size'].str.replace(',','').str[:-1].astype('float64')/1000)\n",
    "\n",
    "# 날짜 월만 남기고 버리고 인코딩\n",
    "df['Released'] = pd.to_datetime(df['Released'])\n",
    "df['Released'].dt.strftime('%b %d, %Y')\n",
    "df['Released'] = df['Released'].dt.strftime('%Y-%m-%d')\n",
    "\n",
    "df.fillna(df.mean(), inplace=True)\n",
    "\n",
    "df"
   ],
   "metadata": {
    "collapsed": false,
    "pycharm": {
     "name": "#%%\n"
    }
   }
  },
  {
   "cell_type": "code",
   "execution_count": 14,
   "outputs": [],
   "source": [
    "es = ft.EntitySet(id='Store')\n",
    "df[\"index\"] = df.index"
   ],
   "metadata": {
    "collapsed": false,
    "pycharm": {
     "name": "#%%\n"
    }
   }
  },
  {
   "cell_type": "code",
   "execution_count": 15,
   "outputs": [
    {
     "data": {
      "text/plain": "Entityset: Store\n  DataFrames:\n    store_log [Rows: 18893, Columns: 11]\n  Relationships:\n    No relationships"
     },
     "execution_count": 15,
     "metadata": {},
     "output_type": "execute_result"
    }
   ],
   "source": [
    "es.add_dataframe(dataframe_name=\"store_log\",\n",
    "                 dataframe=df,\n",
    "                 index=\"index\",\n",
    "                 logical_types= {\n",
    "                     \"Ad Supported\": Boolean,\n",
    "                     \"In App Purchases\": Boolean,\n",
    "                     \"Category\": Categorical,\n",
    "                     \"Minimum Android\": Categorical\n",
    "                 })"
   ],
   "metadata": {
    "collapsed": false,
    "pycharm": {
     "name": "#%%\n"
    }
   }
  },
  {
   "cell_type": "code",
   "execution_count": 16,
   "outputs": [
    {
     "data": {
      "text/plain": "                 Logical Type Semantic Tag(s)\nColumn                                       \nCategory          Categorical    ['category']\nRating                 Double     ['numeric']\nRating Count           Double     ['numeric']\nMaximum Installs      Integer     ['numeric']\nSize                   Double     ['numeric']\nMinimum Android   Categorical    ['category']\nReleased             Datetime              []\nContent Rating         Double     ['numeric']\nAd Supported          Boolean              []\nIn App Purchases      Boolean              []\nindex                 Integer       ['index']",
      "text/html": "<table border=\"1\" class=\"dataframe\">\n  <thead>\n    <tr style=\"text-align: right;\">\n      <th></th>\n      <th>Logical Type</th>\n      <th>Semantic Tag(s)</th>\n    </tr>\n    <tr>\n      <th>Column</th>\n      <th></th>\n      <th></th>\n    </tr>\n  </thead>\n  <tbody>\n    <tr>\n      <th>Category</th>\n      <td>Categorical</td>\n      <td>['category']</td>\n    </tr>\n    <tr>\n      <th>Rating</th>\n      <td>Double</td>\n      <td>['numeric']</td>\n    </tr>\n    <tr>\n      <th>Rating Count</th>\n      <td>Double</td>\n      <td>['numeric']</td>\n    </tr>\n    <tr>\n      <th>Maximum Installs</th>\n      <td>Integer</td>\n      <td>['numeric']</td>\n    </tr>\n    <tr>\n      <th>Size</th>\n      <td>Double</td>\n      <td>['numeric']</td>\n    </tr>\n    <tr>\n      <th>Minimum Android</th>\n      <td>Categorical</td>\n      <td>['category']</td>\n    </tr>\n    <tr>\n      <th>Released</th>\n      <td>Datetime</td>\n      <td>[]</td>\n    </tr>\n    <tr>\n      <th>Content Rating</th>\n      <td>Double</td>\n      <td>['numeric']</td>\n    </tr>\n    <tr>\n      <th>Ad Supported</th>\n      <td>Boolean</td>\n      <td>[]</td>\n    </tr>\n    <tr>\n      <th>In App Purchases</th>\n      <td>Boolean</td>\n      <td>[]</td>\n    </tr>\n    <tr>\n      <th>index</th>\n      <td>Integer</td>\n      <td>['index']</td>\n    </tr>\n  </tbody>\n</table>"
     },
     "execution_count": 16,
     "metadata": {},
     "output_type": "execute_result"
    }
   ],
   "source": [
    "#Check dataset schema briefly\n",
    "es[\"store_log\"].ww.schema\n"
   ],
   "metadata": {
    "collapsed": false,
    "pycharm": {
     "name": "#%%\n"
    }
   }
  },
  {
   "cell_type": "code",
   "execution_count": 18,
   "outputs": [
    {
     "name": "stderr",
     "output_type": "stream",
     "text": [
      "/opt/homebrew/Caskroom/miniforge/base/envs/RL_Sutton/lib/python3.8/site-packages/featuretools/synthesis/deep_feature_synthesis.py:161: UserWarning: Only one dataframe in entityset, changing max_depth to 1 since deeper features cannot be created\n",
      "  warnings.warn(\n"
     ]
    }
   ],
   "source": [
    "'''\n",
    "\n",
    "@Author: MinHyung Lee\n",
    "@Since: 2022/05/23\n",
    "새로운 feature(년, 월, 일)생성하기 위해 dfs 사용\n",
    "\n",
    "'''\n",
    "\n",
    "\n",
    "features, feature_names = ft.dfs(entityset=es,\n",
    "                                 target_dataframe_name='store_log',\n",
    "                                 trans_primitives=['year', 'month', 'day'])\n"
   ],
   "metadata": {
    "collapsed": false,
    "pycharm": {
     "name": "#%%\n"
    }
   }
  },
  {
   "cell_type": "code",
   "execution_count": 19,
   "outputs": [
    {
     "data": {
      "text/plain": "[<Feature: Category>,\n <Feature: Rating>,\n <Feature: Rating Count>,\n <Feature: Maximum Installs>,\n <Feature: Size>,\n <Feature: Minimum Android>,\n <Feature: Content Rating>,\n <Feature: Ad Supported>,\n <Feature: In App Purchases>,\n <Feature: DAY(Released)>,\n <Feature: MONTH(Released)>,\n <Feature: YEAR(Released)>]"
     },
     "execution_count": 19,
     "metadata": {},
     "output_type": "execute_result"
    }
   ],
   "source": [
    "feature_names"
   ],
   "metadata": {
    "collapsed": false,
    "pycharm": {
     "name": "#%%\n"
    }
   }
  },
  {
   "cell_type": "code",
   "execution_count": 23,
   "outputs": [
    {
     "data": {
      "text/plain": "      Category  Rating  Rating Count  Maximum Installs  Size Minimum Android  \\\nindex                                                                          \n0         26.0     4.9          20.0               552   5.8            27.0   \n1         31.0     4.6         719.0            118989  12.0            21.0   \n2         24.0     0.0           0.0                85   8.9            22.0   \n3         11.0     0.0           0.0               723  27.0            27.0   \n4         33.0     0.0           0.0               153   6.0            27.0   \n...        ...     ...           ...               ...   ...             ...   \n19995     17.0     4.0           5.0               335   6.9            25.0   \n19996     13.0     0.0           0.0               900   8.9            21.0   \n19997     20.0     0.0           0.0                30   2.0            19.0   \n19998      2.0     0.0           0.0                10  32.0            27.0   \n19999     28.0     0.0           0.0              1119   6.0            19.0   \n\n       Content Rating  Ad Supported  In App Purchases DAY(Released)  \\\nindex                                                                 \n0                 0.0          True             False             5   \n1                 0.0          True             False            24   \n2                 0.0         False             False            25   \n3                 0.0          True             False            18   \n4                 0.0         False             False            27   \n...               ...           ...               ...           ...   \n19995             0.0          True             False            14   \n19996             0.0         False             False            10   \n19997             0.0         False             False             3   \n19998             0.0          True             False            16   \n19999             0.0          True             False             7   \n\n      MONTH(Released) YEAR(Released)  \nindex                                 \n0                   3           2020  \n1                   3           2016  \n2                  12           2018  \n3                   4           2020  \n4                  11           2017  \n...               ...            ...  \n19995               8           2018  \n19996               8           2017  \n19997               1           2020  \n19998               9           2019  \n19999               5           2019  \n\n[18893 rows x 12 columns]",
      "text/html": "<div>\n<style scoped>\n    .dataframe tbody tr th:only-of-type {\n        vertical-align: middle;\n    }\n\n    .dataframe tbody tr th {\n        vertical-align: top;\n    }\n\n    .dataframe thead th {\n        text-align: right;\n    }\n</style>\n<table border=\"1\" class=\"dataframe\">\n  <thead>\n    <tr style=\"text-align: right;\">\n      <th></th>\n      <th>Category</th>\n      <th>Rating</th>\n      <th>Rating Count</th>\n      <th>Maximum Installs</th>\n      <th>Size</th>\n      <th>Minimum Android</th>\n      <th>Content Rating</th>\n      <th>Ad Supported</th>\n      <th>In App Purchases</th>\n      <th>DAY(Released)</th>\n      <th>MONTH(Released)</th>\n      <th>YEAR(Released)</th>\n    </tr>\n    <tr>\n      <th>index</th>\n      <th></th>\n      <th></th>\n      <th></th>\n      <th></th>\n      <th></th>\n      <th></th>\n      <th></th>\n      <th></th>\n      <th></th>\n      <th></th>\n      <th></th>\n      <th></th>\n    </tr>\n  </thead>\n  <tbody>\n    <tr>\n      <th>0</th>\n      <td>26.0</td>\n      <td>4.9</td>\n      <td>20.0</td>\n      <td>552</td>\n      <td>5.8</td>\n      <td>27.0</td>\n      <td>0.0</td>\n      <td>True</td>\n      <td>False</td>\n      <td>5</td>\n      <td>3</td>\n      <td>2020</td>\n    </tr>\n    <tr>\n      <th>1</th>\n      <td>31.0</td>\n      <td>4.6</td>\n      <td>719.0</td>\n      <td>118989</td>\n      <td>12.0</td>\n      <td>21.0</td>\n      <td>0.0</td>\n      <td>True</td>\n      <td>False</td>\n      <td>24</td>\n      <td>3</td>\n      <td>2016</td>\n    </tr>\n    <tr>\n      <th>2</th>\n      <td>24.0</td>\n      <td>0.0</td>\n      <td>0.0</td>\n      <td>85</td>\n      <td>8.9</td>\n      <td>22.0</td>\n      <td>0.0</td>\n      <td>False</td>\n      <td>False</td>\n      <td>25</td>\n      <td>12</td>\n      <td>2018</td>\n    </tr>\n    <tr>\n      <th>3</th>\n      <td>11.0</td>\n      <td>0.0</td>\n      <td>0.0</td>\n      <td>723</td>\n      <td>27.0</td>\n      <td>27.0</td>\n      <td>0.0</td>\n      <td>True</td>\n      <td>False</td>\n      <td>18</td>\n      <td>4</td>\n      <td>2020</td>\n    </tr>\n    <tr>\n      <th>4</th>\n      <td>33.0</td>\n      <td>0.0</td>\n      <td>0.0</td>\n      <td>153</td>\n      <td>6.0</td>\n      <td>27.0</td>\n      <td>0.0</td>\n      <td>False</td>\n      <td>False</td>\n      <td>27</td>\n      <td>11</td>\n      <td>2017</td>\n    </tr>\n    <tr>\n      <th>...</th>\n      <td>...</td>\n      <td>...</td>\n      <td>...</td>\n      <td>...</td>\n      <td>...</td>\n      <td>...</td>\n      <td>...</td>\n      <td>...</td>\n      <td>...</td>\n      <td>...</td>\n      <td>...</td>\n      <td>...</td>\n    </tr>\n    <tr>\n      <th>19995</th>\n      <td>17.0</td>\n      <td>4.0</td>\n      <td>5.0</td>\n      <td>335</td>\n      <td>6.9</td>\n      <td>25.0</td>\n      <td>0.0</td>\n      <td>True</td>\n      <td>False</td>\n      <td>14</td>\n      <td>8</td>\n      <td>2018</td>\n    </tr>\n    <tr>\n      <th>19996</th>\n      <td>13.0</td>\n      <td>0.0</td>\n      <td>0.0</td>\n      <td>900</td>\n      <td>8.9</td>\n      <td>21.0</td>\n      <td>0.0</td>\n      <td>False</td>\n      <td>False</td>\n      <td>10</td>\n      <td>8</td>\n      <td>2017</td>\n    </tr>\n    <tr>\n      <th>19997</th>\n      <td>20.0</td>\n      <td>0.0</td>\n      <td>0.0</td>\n      <td>30</td>\n      <td>2.0</td>\n      <td>19.0</td>\n      <td>0.0</td>\n      <td>False</td>\n      <td>False</td>\n      <td>3</td>\n      <td>1</td>\n      <td>2020</td>\n    </tr>\n    <tr>\n      <th>19998</th>\n      <td>2.0</td>\n      <td>0.0</td>\n      <td>0.0</td>\n      <td>10</td>\n      <td>32.0</td>\n      <td>27.0</td>\n      <td>0.0</td>\n      <td>True</td>\n      <td>False</td>\n      <td>16</td>\n      <td>9</td>\n      <td>2019</td>\n    </tr>\n    <tr>\n      <th>19999</th>\n      <td>28.0</td>\n      <td>0.0</td>\n      <td>0.0</td>\n      <td>1119</td>\n      <td>6.0</td>\n      <td>19.0</td>\n      <td>0.0</td>\n      <td>True</td>\n      <td>False</td>\n      <td>7</td>\n      <td>5</td>\n      <td>2019</td>\n    </tr>\n  </tbody>\n</table>\n<p>18893 rows × 12 columns</p>\n</div>"
     },
     "execution_count": 23,
     "metadata": {},
     "output_type": "execute_result"
    }
   ],
   "source": [
    "df = features\n",
    "df"
   ],
   "metadata": {
    "collapsed": false,
    "pycharm": {
     "name": "#%%\n"
    }
   }
  },
  {
   "cell_type": "code",
   "execution_count": null,
   "outputs": [],
   "source": [],
   "metadata": {
    "collapsed": false,
    "pycharm": {
     "name": "#%%\n"
    }
   }
  }
 ]
}